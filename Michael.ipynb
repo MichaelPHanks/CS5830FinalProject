{
 "cells": [
  {
   "cell_type": "code",
   "execution_count": null,
   "id": "4791f221-25cd-4d95-a3f8-b3d74d8baaef",
   "metadata": {},
   "outputs": [],
   "source": [
    "## FILE FOR MICHAEL TO WORK IN\n",
    "\n",
    "import pandas as pd\n",
    "## Load in needed data sets\n",
    "import numpy as np \n",
    "import matplotlib.pyplot as plt \n",
    "import pandas as pd \n",
    "import geopandas as gpd \n",
    "import os \n",
    "from mpl_toolkits.axes_grid1 import make_axes_locatable\n",
    "suicide_rates = pd.read_csv(\"suicide-rates.csv\")\n",
    "debt_per_state = pd.read_csv(\"debt-per-state.csv\")\n"
   ]
  },
  {
   "cell_type": "code",
   "execution_count": null,
   "id": "76ac9948-9702-4a1d-be46-e29d00ccd517",
   "metadata": {},
   "outputs": [],
   "source": [
    "northeast_states_full = [\"Connecticut\", \"Maine\", \"Massachusetts\", \"New Hampshire\", \"Rhode Island\", \"Vermont\", \"New Jersey\", \"New York\", \"Pennsylvania\"]\n",
    "midwest_states_full = [\"Illinois\", \"Indiana\", \"Iowa\", \"Kansas\", \"Michigan\", \"Minnesota\", \"Missouri\", \"Nebraska\", \"North Dakota\", \"Ohio\", \"South Dakota\", \"Wisconsin\"]\n",
    "south_states_full = [\"Alabama\", \"Arkansas\", \"Delaware\", \"Florida\", \"Georgia\", \"Kentucky\", \"Louisiana\", \"Maryland\", \"Mississippi\", \"North Carolina\", \"Oklahoma\", \"South Carolina\", \"Tennessee\", \"Texas\", \"Virginia\", \"West Virginia\"]\n",
    "west_states_full = [\"Alaska\", \"Arizona\", \"California\", \"Colorado\", \"Hawaii\", \"Idaho\", \"Montana\", \"Nevada\", \"New Mexico\", \"Oregon\", \"Utah\", \"Washington\", \"Wyoming\"]\n"
   ]
  },
  {
   "cell_type": "code",
   "execution_count": null,
   "id": "dce71bfd-c762-4ad9-91d8-63ddb9fb6ac8",
   "metadata": {},
   "outputs": [],
   "source": [
    "northeast_states = [\"CT\", \"ME\", \"MA\", \"NH\", \"RI\", \"VT\", \"NJ\", \"NY\", \"PA\"]\n",
    "midwest_states = [\"IL\", \"IN\", \"IA\", \"KS\", \"MI\", \"MN\", \"MO\", \"NE\", \"ND\", \"OH\", \"SD\", \"WI\"]\n",
    "south_states = [\"AL\", \"AR\", \"DE\", \"FL\", \"GA\", \"KY\", \"LA\", \"MD\", \"MS\", \"NC\", \"OK\", \"SC\", \"TN\", \"TX\", \"VA\", \"WV\"]\n",
    "west_states = [\"AK\", \"AZ\", \"CA\", \"CO\", \"HI\", \"ID\", \"MT\", \"NV\", \"NM\", \"OR\", \"UT\", \"WA\", \"WY\"]\n"
   ]
  },
  {
   "cell_type": "code",
   "execution_count": null,
   "id": "52c28565-4834-4879-b8d2-9e638a82375b",
   "metadata": {},
   "outputs": [],
   "source": [
    "display(debt_per_state)\n"
   ]
  },
  {
   "cell_type": "code",
   "execution_count": null,
   "id": "03af2760-a0d1-4aa5-a54b-d38d4ed5ab7b",
   "metadata": {},
   "outputs": [],
   "source": [
    "import geopandas as gpd\n",
    "import matplotlib.pyplot as plt\n",
    "\n",
    "states = gpd.read_file(\"tl_2023_us_state/tl_2023_us_state.shp\")\n",
    "states = states.to_crs(\"EPSG:4326\")\n",
    "states.plot()"
   ]
  },
  {
   "cell_type": "code",
   "execution_count": null,
   "id": "6a0399cd-78cc-4bdd-b00f-3f8933b292bd",
   "metadata": {},
   "outputs": [],
   "source": [
    "non_continental = ['HI','VI','MP','GU','AK','AS','PR']\n",
    "us49 = states\n",
    "for n in non_continental:\n",
    "    us49 = us49[us49.STUSPS != n]\n",
    "\n",
    "states = us49"
   ]
  },
  {
   "cell_type": "code",
   "execution_count": null,
   "id": "580a7455-134e-4df8-8791-a0614403c667",
   "metadata": {},
   "outputs": [],
   "source": [
    "# us49.boundary.plot()\n",
    "# plt.show()"
   ]
  },
  {
   "cell_type": "code",
   "execution_count": null,
   "id": "a2fc47f1-7e9d-4955-98fc-e073f422ea40",
   "metadata": {},
   "outputs": [],
   "source": [
    "# def StatesPlot(df,data, cmap):\n",
    "#     f,ax = plt.subplots(1,1, figsize=(15,10), \n",
    "#     sharex=True, sharey=True, dpi=300)\n",
    "#     f.tight_layout()\n",
    "#     plt.title('United States Map - Variable = ' + data)\n",
    "#     ax.set_axis_off()\n",
    "#     divider = make_axes_locatable(ax)\n",
    "#     cax = divider.append_axes(\"right\", size=\"3%\", \n",
    "#     pad=0.5,alpha=0.5)\n",
    "#     df.plot(data, ax=ax, alpha=0.5, cmap=cmap, \n",
    "#     edgecolor='k', legend=True, cax=cax, linewidth=0.1)\n",
    "#     plt.ylabel('Square miles', fontsize=12)\n",
    "#     plt.show()"
   ]
  },
  {
   "cell_type": "code",
   "execution_count": null,
   "id": "c2f7f019-2a7f-4d6a-a81e-d03f83d18fd1",
   "metadata": {},
   "outputs": [],
   "source": [
    "# StatesPlot(suicide_rates,\"RATE\", 'summer')"
   ]
  },
  {
   "cell_type": "code",
   "execution_count": null,
   "id": "c77e46ae-1508-432c-ae1d-915efd4bd303",
   "metadata": {},
   "outputs": [],
   "source": [
    "\n",
    "\n",
    "\n",
    "west = states[states['STUSPS'].isin(west_states)]\n",
    "northeast = states[states['STUSPS'].isin(northeast_states)]\n",
    "south = states[states['STUSPS'].isin(south_states)]\n",
    "midwest = states[states['STUSPS'].isin(midwest_states)]\n",
    "us_boundary_map = states.boundary.plot(figsize=(18, 12), color='Black', linewidth=.5)\n",
    "west.plot(ax=us_boundary_map,  color=\"MistyRose\", aspect=1)\n",
    "\n",
    "northeast.plot(ax=us_boundary_map, color=\"PaleGoldenRod\", aspect=1)\n",
    "\n",
    "south.plot(ax=us_boundary_map, color=\"Plum\", aspect=1)\n",
    "\n",
    "midwest.plot(ax=us_boundary_map, color=\"PaleTurquoise\", aspect=1)\n"
   ]
  },
  {
   "cell_type": "code",
   "execution_count": null,
   "id": "a25dfaf6-b9c5-4581-9531-0d5c7fcf7cac",
   "metadata": {},
   "outputs": [],
   "source": []
  },
  {
   "cell_type": "code",
   "execution_count": null,
   "id": "b7e8447e-a718-43d1-9d19-2d354f14be7b",
   "metadata": {},
   "outputs": [],
   "source": [
    "state_abbreviations_to_names = {\n",
    "    'AL': 'Alabama',\n",
    "    'AK': 'Alaska',\n",
    "    'AZ': 'Arizona',\n",
    "    'AR': 'Arkansas',\n",
    "    'CA': 'California',\n",
    "    'CO': 'Colorado',\n",
    "    'CT': 'Connecticut',\n",
    "    'DE': 'Delaware',\n",
    "    'FL': 'Florida',\n",
    "    'GA': 'Georgia',\n",
    "    'HI': 'Hawaii',\n",
    "    'ID': 'Idaho',\n",
    "    'IL': 'Illinois',\n",
    "    'IN': 'Indiana',\n",
    "    'IA': 'Iowa',\n",
    "    'KS': 'Kansas',\n",
    "    'KY': 'Kentucky',\n",
    "    'LA': 'Louisiana',\n",
    "    'ME': 'Maine',\n",
    "    'MD': 'Maryland',\n",
    "    'MA': 'Massachusetts',\n",
    "    'MI': 'Michigan',\n",
    "    'MN': 'Minnesota',\n",
    "    'MS': 'Mississippi',\n",
    "    'MO': 'Missouri',\n",
    "    'MT': 'Montana',\n",
    "    'NE': 'Nebraska',\n",
    "    'NV': 'Nevada',\n",
    "    'NH': 'New Hampshire',\n",
    "    'NJ': 'New Jersey',\n",
    "    'NM': 'New Mexico',\n",
    "    'NY': 'New York',\n",
    "    'NC': 'North Carolina',\n",
    "    'ND': 'North Dakota',\n",
    "    'OH': 'Ohio',\n",
    "    'OK': 'Oklahoma',\n",
    "    'OR': 'Oregon',\n",
    "    'PA': 'Pennsylvania',\n",
    "    'RI': 'Rhode Island',\n",
    "    'SC': 'South Carolina',\n",
    "    'SD': 'South Dakota',\n",
    "    'TN': 'Tennessee',\n",
    "    'TX': 'Texas',\n",
    "    'UT': 'Utah',\n",
    "    'VT': 'Vermont',\n",
    "    'VA': 'Virginia',\n",
    "    'WA': 'Washington',\n",
    "    'WV': 'West Virginia',\n",
    "    'WI': 'Wisconsin',\n",
    "    'WY': 'Wyoming'\n",
    "}\n"
   ]
  },
  {
   "cell_type": "code",
   "execution_count": null,
   "id": "cc7c8342-c712-4bf1-840f-62842064627e",
   "metadata": {},
   "outputs": [],
   "source": [
    "states['StateFullName'] = states['STUSPS'].map(state_abbreviations_to_names)\n",
    "display(states)"
   ]
  },
  {
   "cell_type": "code",
   "execution_count": null,
   "id": "8d1ef175-f686-4b9b-9138-254f6a173bff",
   "metadata": {},
   "outputs": [],
   "source": [
    "merged_data2 = pd.merge(states, debt_per_state, left_on='StateFullName', right_on='State', how='left')\n",
    "\n",
    "# Plot the map\n",
    "us_boundary_map = states.boundary.plot(figsize=(18, 12), color='Black', linewidth=.5)\n",
    "\n",
    "# Plot suicide rates for each state\n",
    "merged_data2.plot(column='Debt to Salary Ratio', cmap='coolwarm', legend=True, ax=us_boundary_map)\n",
    "\n",
    "# Add title and labels\n",
    "plt.title('Debt to Salary Ratio By State')\n",
    "plt.xlabel('Longitude')\n",
    "plt.ylabel('Latitude')\n",
    "\n",
    "# Show the plot\n",
    "plt.show()"
   ]
  },
  {
   "cell_type": "code",
   "execution_count": null,
   "id": "84be0817-c384-4ca5-b1e6-d453b143e264",
   "metadata": {},
   "outputs": [],
   "source": [
    "## What to do for analysis\n",
    "\n",
    "\n",
    "## First, do pearson correlations for different variables to show correlation for different regions\n",
    "## Second, run t-tests, comparing the different regions to see if there is a difference in the means for the states values\n",
    "\n",
    "## Values to compare: 1. Poverty rate, suicide rate, household income, drunk driving statistics, etc.\n",
    "\n",
    "## What these comparisons will tell us:\n",
    "    ## 1. Which region is better with the given statistics\n",
    "    ## 2. If correlations are different within the regions\n",
    "    ## 3. \n"
   ]
  }
 ],
 "metadata": {
  "kernelspec": {
   "display_name": "Python 3 (ipykernel)",
   "language": "python",
   "name": "python3"
  },
  "language_info": {
   "codemirror_mode": {
    "name": "ipython",
    "version": 3
   },
   "file_extension": ".py",
   "mimetype": "text/x-python",
   "name": "python",
   "nbconvert_exporter": "python",
   "pygments_lexer": "ipython3",
   "version": "3.9.13"
  }
 },
 "nbformat": 4,
 "nbformat_minor": 5
}
