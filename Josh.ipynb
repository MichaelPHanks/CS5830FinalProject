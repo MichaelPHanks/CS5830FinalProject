{
 "cells": [
  {
   "cell_type": "code",
   "execution_count": null,
   "id": "21a5a66d-d72c-48c5-ba82-b37e04f89256",
   "metadata": {},
   "outputs": [],
   "source": [
    "## FILE FOR JOSH TO WORK IN\n"
   ]
  }
 ],
 "metadata": {
  "kernelspec": {
   "display_name": "Python 3 (ipykernel)",
   "language": "python",
   "name": "python3"
  },
  "language_info": {
   "codemirror_mode": {
    "name": "ipython",
    "version": 3
   },
   "file_extension": ".py",
   "mimetype": "text/x-python",
   "name": "python",
   "nbconvert_exporter": "python",
   "pygments_lexer": "ipython3",
   "version": "3.12.0"
  }
 },
 "nbformat": 4,
 "nbformat_minor": 5
}
