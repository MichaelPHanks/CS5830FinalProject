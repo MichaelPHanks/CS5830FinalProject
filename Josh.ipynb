{
 "cells": [
  {
   "cell_type": "code",
   "execution_count": null,
   "id": "21a5a66d-d72c-48c5-ba82-b37e04f89256",
   "metadata": {},
   "outputs": [],
   "source": [
    "## FILE FOR JOSH TO WORK IN\n",
    "from sklearn.preprocessing import StandardScaler\n",
    "import pandas as pd\n",
    "import geopandas as gpd\n",
    "import matplotlib.pyplot as plt"
   ]
  },
  {
   "cell_type": "code",
   "execution_count": null,
   "id": "78a8d277",
   "metadata": {},
   "outputs": [],
   "source": [
    "# def get_column_indexes(dataframe, column_list):\n",
    "#     column_indexes = []\n",
    "#     for column_name in column_list:\n",
    "#         column_indexes.append(dataframe.columns.get_loc(column_name))\n",
    "#     return column_indexes\n",
    "\n",
    "def build_score_column(label, dataframe, columns, column_coefficients):\n",
    "    modified_df = dataframe[columns].copy()\n",
    "    for i in range(len(column_coefficients)):\n",
    "        modified_df.iloc[:, i] *=  column_coefficients[i]\n",
    "    dataframe[label] = modified_df.sum(axis=1)\n",
    "    "
   ]
  },
  {
   "cell_type": "code",
   "execution_count": null,
   "id": "e0923bea",
   "metadata": {},
   "outputs": [],
   "source": [
    "medical_data = pd.read_csv(\"MedicalData/medical_data.csv\")\n",
    "\n",
    "columns_to_standardize = ['imfant mortality 100k', 'homicides per 100k', 'overdose deaths per 100k', 'suicide per 100k', 'lifeExpectancey',\n",
    "                          'percent use cigerrets', 'Gallons of Ethanol per Capita', 'Driving Fatalities Involving Alcohol (Percentage)',\n",
    "                          'Excessive Drinking rate (Percentage)', 'cancer casees per 100k', '% deppressed']\n",
    "\n",
    "# Here is where we define the scales of our scoring model. Because we want healthy sates to have and low scores\n",
    "# and unhealthy sates to havel low scores we use positive or negative coefficients, for example the coefficient\n",
    "# for infant mortality will be negative because a lower score is more \"healty\". The actual magnitude of the scalar\n",
    "# impacts how heavily this column will impact our actuall health score. \n",
    "column_coefficients = [-2, -1, -1, -2, 2, -1, -.5, -1, -1, -1, -1]\n",
    "\n",
    "\n",
    "\n",
    "# Coerce strings to NAN\n",
    "medical_data[columns_to_standardize] = medical_data[columns_to_standardize].apply(pd.to_numeric, errors='coerce')\n",
    "\n",
    "# Replace NAN with median values.\n",
    "for column in columns_to_standardize:\n",
    "    medical_data[column] = medical_data[column].fillna(medical_data[column].median())\n",
    "\n",
    "scaler = StandardScaler()\n",
    "# display(medical_data)\n",
    "scaled_df = pd.DataFrame(scaler.fit_transform(medical_data[columns_to_standardize]))\n",
    "\n",
    "# Replace non standardized columns in medical data with their standardized versions.\n",
    "medical_data[columns_to_standardize] = scaled_df\n",
    "\n",
    "# column_indexes = get_column_indexes(medical_data, columns_to_standardize)\n",
    "# print(column_indexes)\n",
    "\n",
    "build_score_column(\"Health_Score\", medical_data, columns_to_standardize, column_coefficients)\n",
    "display(medical_data)\n",
    "print(medical_data.columns)\n"
   ]
  },
  {
   "cell_type": "code",
   "execution_count": null,
   "id": "4a2bb63e",
   "metadata": {},
   "outputs": [],
   "source": [
    "highest = medical_data.nlargest(20, 'Health_Score')\n",
    "highest.head(20)\n",
    "\n",
    "health_score = medical_data[['YEAR',\"STATE\",\"Health_Score\"]]\n",
    "health_score.to_csv('MedicalData/HealthScore.csv', index=False)\n",
    "\n"
   ]
  },
  {
   "cell_type": "code",
   "execution_count": null,
   "id": "dc8f1a7a",
   "metadata": {},
   "outputs": [],
   "source": [
    "states = gpd.read_file(\"tl_2023_us_state/tl_2023_us_state.shp\")\n",
    "states = states.to_crs(\"EPSG:4326\")\n",
    "\n",
    "# states.plot()\n",
    "\n",
    "\n",
    "non_continental = ['HI','VI','MP','GU','AK','AS','PR']\n",
    "us49 = states\n",
    "for n in non_continental:\n",
    "    us49 = us49[us49.STUSPS != n]\n",
    "\n",
    "states = us49\n",
    "\n",
    "# us49.plot(column='')\n",
    "us49.head()\n",
    "# plt.show()"
   ]
  },
  {
   "cell_type": "code",
   "execution_count": null,
   "id": "a9058be4",
   "metadata": {},
   "outputs": [],
   "source": [
    "health_2020 = health_score[health_score['YEAR'] == 2020]\n",
    "\n",
    "# display(health_2020)\n",
    "# health_score.head()\n",
    "\n",
    "merged = pd.merge(states, health_2020, left_on='STUSPS', right_on=\"STATE\", how='left')\n",
    "\n",
    "merged.head(100)\n",
    "\n"
   ]
  },
  {
   "cell_type": "code",
   "execution_count": null,
   "id": "f3486d8d",
   "metadata": {},
   "outputs": [],
   "source": [
    "map = states.plot()\n",
    "merged.plot(column='Health_Score', cmap='coolwarm', legend=True,ax=map)\n",
    "# plt.show"
   ]
  }
 ],
 "metadata": {
  "kernelspec": {
   "display_name": "Python 3 (ipykernel)",
   "language": "python",
   "name": "python3"
  },
  "language_info": {
   "codemirror_mode": {
    "name": "ipython",
    "version": 3
   },
   "file_extension": ".py",
   "mimetype": "text/x-python",
   "name": "python",
   "nbconvert_exporter": "python",
   "pygments_lexer": "ipython3",
   "version": "3.10.6"
  }
 },
 "nbformat": 4,
 "nbformat_minor": 5
}
