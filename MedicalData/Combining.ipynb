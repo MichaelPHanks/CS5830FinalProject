{
 "cells": [
  {
   "cell_type": "code",
   "execution_count": null,
   "id": "8be73034-b1eb-4f8b-8663-8b6d8f6a076b",
   "metadata": {},
   "outputs": [],
   "source": [
    "import pandas as pd"
   ]
  },
  {
   "cell_type": "code",
   "execution_count": null,
   "id": "782db430-780b-4601-8769-2c2b8ac4ad50",
   "metadata": {},
   "outputs": [],
   "source": [
    "suicide = pd.read_csv(\"./suicide.csv\")\n",
    "s1 = pd.read_csv(\"./suicide19.csv\")\n",
    "suicide = pd.concat([suicide, s1], ignore_index=True)\n",
    "s1 = pd.read_csv(\"./suicide20.csv\")\n",
    "suicide = pd.concat([suicide, s1], ignore_index=True)\n",
    "\n",
    "lifeExpecantcy = pd.read_csv(\"./life-expecantcy.csv\")\n",
    "s1 = pd.read_csv(\"./life19.csv\")\n",
    "lifeExpecantcy = pd.concat([lifeExpecantcy, s1], ignore_index=True)\n",
    "\n",
    "Cigarette = pd.read_csv(\"./Cigarette.csv\")\n",
    "     \n",
    "overdose = pd.read_csv(\"./overdose.csv\")\n",
    "s1 = pd.read_csv(\"./drug1.csv\")\n",
    "overdose = pd.concat([overdose, s1], ignore_index=True)\n",
    "s1 = pd.read_csv(\"./drug2.csv\")\n",
    "overdose = pd.concat([overdose, s1], ignore_index=True)\n",
    "\n",
    "homicide = pd.read_csv(\"homicide.csv\")\n",
    "s1 = pd.read_csv(\"./homicide19.csv\")\n",
    "homicide = pd.concat([homicide, s1], ignore_index=True)\n",
    "s1 = pd.read_csv(\"./homicide20.csv\")\n",
    "homicide = pd.concat([homicide, s1], ignore_index=True)\n",
    "\n",
    "infantMortality = pd.read_csv(\"infant-mortality.csv\")\n",
    "s1 = pd.read_csv(\"./infant19.csv\")\n",
    "infantMortality = pd.concat([infantMortality, s1], ignore_index=True)\n",
    "s1 = pd.read_csv(\"./infant20.csv\")\n",
    "infantMortality = pd.concat([infantMortality, s1], ignore_index=True)\n",
    "\n",
    "\n",
    "alcoholConsumption = pd.read_csv(\"alcohol_consumption_by_usa_state_2024.csv\")\n",
    "\n",
    "cancer = pd.read_csv(\"./incd.csv\")\n",
    "\n",
    "depression = pd.read_csv(\"./ExportCS2021V.csv\")\n",
    "s1 = pd.read_csv(\"./ExportCSV2019.csv\")\n",
    "depression = pd.concat([depression, s1], ignore_index=True)\n",
    "s1 = pd.read_csv(\"./ExportCSV2020.csv\")\n",
    "depression = pd.concat([depression, s1], ignore_index=True)\n"
   ]
  },
  {
   "cell_type": "code",
   "execution_count": null,
   "id": "ab02e5a5-bcfd-474e-9541-3b2d39ec9f5f",
   "metadata": {},
   "outputs": [],
   "source": [
    "state_abbr = {\n",
    "    'Alabama': 'AL',\n",
    "    'Alaska': 'AK',\n",
    "    'Arizona': 'AZ',\n",
    "    'Arkansas': 'AR',\n",
    "    'California': 'CA',\n",
    "    'Colorado': 'CO',\n",
    "    'Connecticut': 'CT',\n",
    "    'Delaware': 'DE',\n",
    "    'Florida': 'FL',\n",
    "    'Georgia': 'GA',\n",
    "    'Hawaii': 'HI',\n",
    "    'Idaho': 'ID',\n",
    "    'Illinois': 'IL',\n",
    "    'Indiana': 'IN',\n",
    "    'Iowa': 'IA',\n",
    "    'Kansas': 'KS',\n",
    "    'Kentucky': 'KY',\n",
    "    'Louisiana': 'LA',\n",
    "    'Maine': 'ME',\n",
    "    'Maryland': 'MD',\n",
    "    'Massachusetts': 'MA',\n",
    "    'Michigan': 'MI',\n",
    "    'Minnesota': 'MN',\n",
    "    'Mississippi': 'MS',\n",
    "    'Missouri': 'MO',\n",
    "    'Montana': 'MT',\n",
    "    'Nebraska': 'NE',\n",
    "    'Nevada': 'NV',\n",
    "    'New Hampshire': 'NH',\n",
    "    'New Jersey': 'NJ',\n",
    "    'New Mexico': 'NM',\n",
    "    'New York': 'NY',\n",
    "    'North Carolina': 'NC',\n",
    "    'North Dakota': 'ND',\n",
    "    'Ohio': 'OH',\n",
    "    'Oklahoma': 'OK',\n",
    "    'Oregon': 'OR',\n",
    "    'Pennsylvania': 'PA',\n",
    "    'Rhode Island': 'RI',\n",
    "    'South Carolina': 'SC',\n",
    "    'South Dakota': 'SD',\n",
    "    'Tennessee': 'TN',\n",
    "    'Texas': 'TX',\n",
    "    'Utah': 'UT',\n",
    "    'Vermont': 'VT',\n",
    "    'Virginia': 'VA',\n",
    "    'Washington': 'WA',\n",
    "    'West Virginia': 'WV',\n",
    "    'Wisconsin': 'WI',\n",
    "    'Wyoming': 'WY'\n",
    "}\n"
   ]
  },
  {
   "cell_type": "code",
   "execution_count": null,
   "id": "57e77555-b792-407c-8676-e319288a08cd",
   "metadata": {},
   "outputs": [],
   "source": [
    "#Removing useless information\n",
    "#changing all states to abbreviations\n",
    "suicide = suicide.drop('URL', axis=1)\n",
    "lifeExpecantcy = lifeExpecantcy.drop('URL', axis=1)\n",
    "Cigarette['STATE'] = Cigarette['LocationDesc'].map(state_abbr)\n",
    "Cigarette = Cigarette.drop('LocationDesc', axis=1)\n",
    "Cigarette = Cigarette.drop('Low_Confidence_Limit', axis=1)\n",
    "Cigarette = Cigarette.drop('High_Confidence_Limit', axis=1)\n",
    "overdose = overdose.drop('URL', axis=1)\n",
    "homicide = homicide.drop('URL', axis=1)\n",
    "infantMortality = infantMortality.drop('URL', axis=1)\n",
    "alcoholConsumption = alcoholConsumption.drop('State Name', axis=1)\n",
    "alcoholConsumption['STATE'] = alcoholConsumption['State Abbreviations']\n",
    "alcoholConsumption = alcoholConsumption.drop('State Abbreviations', axis=1)\n",
    "\n"
   ]
  },
  {
   "cell_type": "code",
   "execution_count": null,
   "id": "20fa8715-ec7e-4ebf-8677-652595befbe1",
   "metadata": {},
   "outputs": [],
   "source": [
    "cancer['STATE'] = cancer['State'].map(state_abbr)\n",
    "cancer = cancer.drop('State', axis=1)\n",
    "cancer = cancer.drop(' FIPS', axis=1)\n",
    "cancer = cancer.drop('Lower 95% Confidence Interval', axis=1)\n",
    "cancer = cancer.drop('Upper 95% Confidence Interval', axis=1)\n",
    "cancer = cancer.drop('CI*Rank([rank note])', axis=1)\n",
    "cancer = cancer.drop('Lower CI (CI*Rank)', axis=1)\n",
    "cancer = cancer.drop('Upper CI (CI*Rank)', axis=1)\n",
    "cancer = cancer.drop('Lower 95% Confidence Interval.1', axis=1)\n",
    "cancer = cancer.drop('Upper 95% Confidence Interval.1', axis=1)\n",
    "cancer['cancer casees per 100k'] = cancer['Age-Adjusted Incidence Rate([rate note]) - cases per 100,000']\n",
    "cancer = cancer.drop('Age-Adjusted Incidence Rate([rate note]) - cases per 100,000', axis=1)\n",
    "cancer['Average Anual Cancer Patients'] = cancer['Average Annual Count']\n",
    "cancer = cancer.drop('Average Annual Count', axis=1)\n",
    "cancer['rate of cancer increase'] = cancer['Recent 5-Year Trend ([trend note]) in Incidence Rates']\n",
    "cancer = cancer.drop('Recent 5-Year Trend ([trend note]) in Incidence Rates', axis=1)"
   ]
  },
  {
   "cell_type": "code",
   "execution_count": null,
   "id": "f4a424db-dd6e-48c9-a591-ffc520192dfa",
   "metadata": {},
   "outputs": [],
   "source": [
    "depression['STATE'] = depression['LocationAbbr']\n",
    "depression = depression[['Year', 'STATE', 'Data_Value']]"
   ]
  },
  {
   "cell_type": "code",
   "execution_count": null,
   "id": "f4c59c2e-5594-4880-b5a3-196efd2d71a1",
   "metadata": {},
   "outputs": [],
   "source": [
    "depression['YEAR'] = depression['Year']\n",
    "depression['% deppressed'] = depression['Data_Value']\n",
    "depression = depression.drop('Year', axis = 1)\n",
    "depression = depression.drop('Data_Value', axis = 1)\n",
    "depression.dropna(subset=['YEAR'], inplace=True)\n",
    "depression['YEAR'] = depression['YEAR'].astype(int)"
   ]
  },
  {
   "cell_type": "code",
   "execution_count": null,
   "id": "e38767bb-f78d-4aad-b71b-c5cfc92c00df",
   "metadata": {},
   "outputs": [],
   "source": [
    "#Renamed columns that have the same name\n",
    "lifeExpecantcy = lifeExpecantcy.rename(columns={'RATE': 'lifeExpectancey'})\n",
    "suicide = suicide.rename(columns={'RATE': 'suicide per 100k'})\n",
    "suicide = suicide.rename(columns={'DEATHS': 'total suicides'})\n",
    "Cigarette = Cigarette.rename(columns={'Data_Value': 'percent use cigerrets'})\n",
    "overdose = overdose.rename(columns={'RATE': 'overdose deaths per 100k'})\n",
    "overdose = overdose.rename(columns={'DEATHS': 'deadly overdoses'})\n",
    "homicide = homicide.rename(columns={'RATE': 'homicides per 100k'})\n",
    "homicide = homicide.rename(columns={'DEATH': 'total homicides'})\n",
    "infantMortality = infantMortality.rename(columns={'RATE': 'imfant mortality 100k'})\n",
    "infantMortality = infantMortality.rename(columns={'DEATH': 'total infant mortality'})"
   ]
  },
  {
   "cell_type": "code",
   "execution_count": null,
   "id": "b056002e-1534-4843-9249-c92c40357022",
   "metadata": {},
   "outputs": [],
   "source": [
    "combined_df = pd.merge(infantMortality, homicide, on=['YEAR', 'STATE'], how='left')\n",
    "combined_df = pd.merge(combined_df, overdose, on=['YEAR', 'STATE'], how='left')\n",
    "combined_df = pd.merge(combined_df, suicide, on=['YEAR', 'STATE'], how='left')\n",
    "combined_df = pd.merge(combined_df, lifeExpecantcy, on=['YEAR', 'STATE'], how='left')\n",
    "combined_df = pd.merge(combined_df, Cigarette, on=['STATE'], how='left')\n",
    "combined_df = pd.merge(combined_df, alcoholConsumption, on=['STATE'], how='left')\n",
    "combined_df = pd.merge(combined_df, cancer, on=['STATE'], how='left')\n",
    "combined_df = pd.merge(combined_df, depression, on=['YEAR', 'STATE'], how='left')"
   ]
  },
  {
   "cell_type": "code",
   "execution_count": null,
   "id": "7181b469-63f5-4200-b55b-f0fb55cc459c",
   "metadata": {},
   "outputs": [],
   "source": [
    "combined_df.head()"
   ]
  },
  {
   "cell_type": "code",
   "execution_count": null,
   "id": "47d614b7-959e-494b-b046-bbd9ba4ca9e5",
   "metadata": {},
   "outputs": [],
   "source": [
    "combined_df = combined_df.drop_duplicates()"
   ]
  },
  {
   "cell_type": "code",
   "execution_count": null,
   "id": "b06c51fc-0ab0-4a5c-acb0-95b8a5b54a8e",
   "metadata": {},
   "outputs": [],
   "source": [
    "combined_df"
   ]
  },
  {
   "cell_type": "code",
   "execution_count": null,
   "id": "d80f0c7e-a7e8-4713-ac23-2e896b225495",
   "metadata": {},
   "outputs": [],
   "source": [
    "combined_df.to_csv('medical_data.csv', index=False)"
   ]
  }
 ],
 "metadata": {
  "kernelspec": {
   "display_name": "Python 3 (ipykernel)",
   "language": "python",
   "name": "python3"
  },
  "language_info": {
   "codemirror_mode": {
    "name": "ipython",
    "version": 3
   },
   "file_extension": ".py",
   "mimetype": "text/x-python",
   "name": "python",
   "nbconvert_exporter": "python",
   "pygments_lexer": "ipython3",
   "version": "3.11.7"
  }
 },
 "nbformat": 4,
 "nbformat_minor": 5
}
