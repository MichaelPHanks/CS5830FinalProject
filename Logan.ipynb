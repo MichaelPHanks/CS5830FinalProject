{
 "cells": [
  {
   "cell_type": "code",
   "execution_count": null,
   "id": "311e21c9-a458-4035-9699-67d0c96f1fdf",
   "metadata": {},
   "outputs": [],
   "source": [
    "## FILE FOR LOGAN TO WORK IN\n",
    "\n",
    "import pandas as pd\n",
    "import geopandas as geo\n",
    "from sklearn.metrics import accuracy_score\n",
    "from sklearn.model_selection import train_test_split\n",
    "from sklearn.metrics import precision_recall_fscore_support\n",
    "from sklearn import datasets\n",
    "from sklearn.naive_bayes import GaussianNB\n",
    "import seaborn as sb\n",
    "import matplotlib.pyplot as plt\n",
    "import numpy as np\n",
    "from scipy.stats import ttest_ind\n",
    "import statistics as stat\n",
    "from scipy import stats"
   ]
  },
  {
   "cell_type": "code",
   "execution_count": null,
   "id": "c19f7cf6-f27a-4f0f-821e-067eecfc426e",
   "metadata": {},
   "outputs": [],
   "source": [
    "debt = pd.read_csv('debt.csv')\n",
    "depression = pd.read_csv('depression.csv')\n",
    "GDP = pd.read_csv('GDP.csv')\n",
    "GDP = GDP.dropna()\n",
    "StateInfo = pd.read_csv(\"raw_data.csv\")\n",
    "suicide = pd.read_csv('MedicalData/suicide.csv')\n",
    "depression = pd.read_csv('MedicalData/ExportCS2021V.csv')\n",
    "depression = depression[['LocationAbbr','Data_Value']]\n",
    "GDP = GDP.head(52)\n",
    "GDP = GDP.drop(GDP.index[0])\n",
    "GDP = GDP.drop(GDP.index[8])"
   ]
  },
  {
   "cell_type": "code",
   "execution_count": null,
   "id": "98fb192e-2617-4cd2-a213-3159fe87d8db",
   "metadata": {},
   "outputs": [],
   "source": [
    "state_codes = {\n",
    "    'AL': 'Alabama',\n",
    "    'AK': 'Alaska',\n",
    "    'AZ': 'Arizona',\n",
    "    'AR': 'Arkansas',\n",
    "    'CA': 'California',\n",
    "    'CO': 'Colorado',\n",
    "    'CT': 'Connecticut',\n",
    "    'DE': 'Delaware',\n",
    "    'FL': 'Florida',\n",
    "    'GA': 'Georgia',\n",
    "    'HI': 'Hawaii',\n",
    "    'ID': 'Idaho',\n",
    "    'IL': 'Illinois',\n",
    "    'IN': 'Indiana',\n",
    "    'IA': 'Iowa',\n",
    "    'KS': 'Kansas',\n",
    "    'KY': 'Kentucky',\n",
    "    'LA': 'Louisiana',\n",
    "    'ME': 'Maine',\n",
    "    'MD': 'Maryland',\n",
    "    'MA': 'Massachusetts',\n",
    "    'MI': 'Michigan',\n",
    "    'MN': 'Minnesota',\n",
    "    'MS': 'Mississippi',\n",
    "    'MO': 'Missouri',\n",
    "    'MT': 'Montana',\n",
    "    'NE': 'Nebraska',\n",
    "    'NV': 'Nevada',\n",
    "    'NH': 'New Hampshire',\n",
    "    'NJ': 'New Jersey',\n",
    "    'NM': 'New Mexico',\n",
    "    'NY': 'New York',\n",
    "    'NC': 'North Carolina',\n",
    "    'ND': 'North Dakota',\n",
    "    'OH': 'Ohio',\n",
    "    'OK': 'Oklahoma',\n",
    "    'OR': 'Oregon',\n",
    "    'PA': 'Pennsylvania',\n",
    "    'RI': 'Rhode Island',\n",
    "    'SC': 'South Carolina',\n",
    "    'SD': 'South Dakota',\n",
    "    'TN': 'Tennessee',\n",
    "    'TX': 'Texas',\n",
    "    'UT': 'Utah',\n",
    "    'VT': 'Vermont',\n",
    "    'VA': 'Virginia',\n",
    "    'WA': 'Washington',\n",
    "    'WV': 'West Virginia',\n",
    "    'WI': 'Wisconsin',\n",
    "    'WY': 'Wyoming'\n",
    "}"
   ]
  },
  {
   "cell_type": "code",
   "execution_count": null,
   "id": "c03b33ac-6b26-457b-b0d2-add1dfcb1c1c",
   "metadata": {},
   "outputs": [],
   "source": [
    "## cleaning suicide data\n",
    "suicide[\"STATENAME\"] = suicide[\"STATE\"].map(state_codes)\n",
    "average_suicide_rate = suicide.groupby('STATENAME')['RATE'].mean()\n",
    "\n",
    "# Convert the Series to a DataFrame\n",
    "average_rate_df = average_suicide_rate.reset_index()\n",
    "\n",
    "average_rate_df.columns = ['STATENAME', 'RATE']\n",
    "\n",
    "##DEBT CLEANING\n",
    "debt = debt[debt['NAME'].isin(state_codes.values())]\n",
    "debt = debt.drop_duplicates()\n",
    "debt = debt.rename(columns={'NAME': 'STATENAME'})\n",
    "\n",
    "##GDP CLEANING\n",
    "GDP = GDP.rename(columns={'GeoName': 'STATENAME'})\n",
    "numeric_columns = GDP.select_dtypes(include=['number'])\n",
    "GDP['Average'] = numeric_columns.mean(axis=1)\n",
    "\n",
    "##DEPRESSION CLEANING\n",
    "depression[\"STATENAME\"] = depression[\"LocationAbbr\"].map(state_codes)\n",
    "depression = depression[depression['STATENAME'].isin(state_codes.values())]\n",
    "depression = depression.rename(columns={'Data_Value': 'depression_percent'})\n",
    "depression = depression[['depression_percent','STATENAME']]\n",
    "depression['STATENAME'] = depression['STATENAME'].str.upper()\n",
    "depression['depression_percent'] = depression['depression_percent'].astype(float)\n",
    "\n",
    "##STATE ECONOMIC INFORMATION CLEANING\n",
    "\n",
    "# Read the CSV file and drop rows with missing values\n",
    "StateInfo = StateInfo.dropna()\n",
    "\n",
    "# Transpose the DataFrame\n",
    "StateInfo = StateInfo.transpose()\n",
    "# Set the correct column names\n",
    "StateInfo.columns = ['MedianIncome', 'StateSpending', 'StateCollections', 'Unemployed']\n",
    "##StateInfo=StateInfo.drop(\"Place\")\n",
    "##StateInfo=StateInfo.drop(\"United States\")\n",
    "StateInfo=StateInfo.drop(\"Dist. of Columbia\")\n",
    "StateInfo=StateInfo.drop(\"Unnamed: 0\")\n",
    "StateInfo=StateInfo.drop('United States')\n",
    "# Print the DataFrame\n",
    "StateInfo = StateInfo.reset_index()\n",
    "StateInfo = StateInfo.rename(columns={'index': 'STATENAME'})\n",
    "\n",
    "StateInfo['STATENAME'] = StateInfo['STATENAME'].str.upper()\n",
    "# replace values in selected columns\n",
    "StateInfo[StateInfo.columns[1:4]] = StateInfo[StateInfo.columns[1:4]].replace('[\\$,]', '', regex=True).astype(float)\n",
    "StateInfo[StateInfo.columns[4]] = StateInfo[StateInfo.columns[4]].replace('[\\%,]', '', regex=True).astype(float)"
   ]
  },
  {
   "cell_type": "code",
   "execution_count": null,
   "id": "16f7c4b8-4b6c-4270-90ee-6dfffe3cc2d8",
   "metadata": {},
   "outputs": [],
   "source": [
    "## STATE GDP\n",
    "\n",
    "# Load your data\n",
    "us_map = geo.read_file('States_shapefile-shp/States_shapefile.shp')\n",
    "us_map = us_map.to_crs('epsg:3395')\n",
    "\n",
    "GDP['STATENAME'] = GDP['STATENAME'].str.upper()\n",
    "\n",
    "# Join your data with the map data\n",
    "merged_data = us_map.merge(GDP, how='left', left_on='State_Name', right_on='STATENAME')\n",
    "\n",
    "\n",
    "# Plot the map\n",
    "fig, ax = plt.subplots(figsize=(18, 12))\n",
    "\n",
    "merged_data.plot(column='Average', ax=ax, legend=True, legend_kwds={'label': \"State GDP\", 'orientation': \"horizontal\"})\n",
    "\n",
    "plt.show()"
   ]
  },
  {
   "cell_type": "code",
   "execution_count": null,
   "id": "c24c02af-bd03-431e-bd29-26a806bd6be0",
   "metadata": {},
   "outputs": [],
   "source": [
    "## DEBT\n",
    "\n",
    "debt['STATENAME'] = debt['STATENAME'].str.upper()\n",
    "\n",
    "# Join your data with the map data\n",
    "merged_data = us_map.merge(debt, how='left', left_on='State_Name', right_on='STATENAME')\n",
    "\n",
    "\n",
    "# Plot the map\n",
    "fig, ax = plt.subplots(figsize=(18, 12))\n",
    "\n",
    "merged_data.plot(column='AVERAGE DEBT TO SALARY RATIO', ax=ax, legend=True, legend_kwds={'label': \"Average Debt to Salary Ratio\", 'orientation': \"horizontal\"})\n",
    "\n",
    "plt.show()"
   ]
  },
  {
   "cell_type": "code",
   "execution_count": null,
   "id": "c113f7a1-a609-4273-951e-bdef2b1c8486",
   "metadata": {},
   "outputs": [],
   "source": [
    "## SUICIDE\n",
    "\n",
    "average_rate_df['STATENAME'] = average_rate_df['STATENAME'].str.upper()\n",
    "\n",
    "# Join your data with the map data\n",
    "merged_data = us_map.merge(average_rate_df, how='left', left_on='State_Name', right_on='STATENAME')\n",
    "\n",
    "\n",
    "# Plot the map\n",
    "fig, ax = plt.subplots(figsize=(18, 12))\n",
    "\n",
    "merged_data.plot(column='RATE', ax=ax, legend=True, legend_kwds={'label': \"Suicide Rate Per State\", 'orientation': \"horizontal\"})\n",
    "\n",
    "plt.show()"
   ]
  },
  {
   "cell_type": "code",
   "execution_count": null,
   "id": "584bbb31-7cdb-4355-b303-cf75e6328925",
   "metadata": {},
   "outputs": [],
   "source": [
    "## DEPRESSION\n",
    "\n",
    "# Join your data with the map data\n",
    "merged_data = us_map.merge(depression, how='left', left_on='State_Name', right_on='STATENAME')\n",
    "\n",
    "\n",
    "# Plot the map\n",
    "fig, ax = plt.subplots(figsize=(18, 12))\n",
    "\n",
    "merged_data.plot(column='depression_percent', ax=ax, legend=True, legend_kwds={'label': \"Depression Percentage Per State\", 'orientation': \"horizontal\"})\n",
    "\n",
    "plt.show()"
   ]
  },
  {
   "cell_type": "code",
   "execution_count": null,
   "id": "817fb155-d414-4308-81b5-c577f59fe27a",
   "metadata": {},
   "outputs": [],
   "source": [
    "## comparison - Suicide to GDP\n",
    "##   == SIGNIFICANT ==\n",
    "data = pd.merge(average_rate_df, debt, on=\"STATENAME\", how=\"left\")\n",
    "data = pd.merge(data, GDP, on=\"STATENAME\", how=\"left\")\n",
    "\n",
    "\n",
    "plot = sb.regplot(data=data, x=\"RATE\", y=\"Average\")\n",
    "\n",
    "\n",
    "correlation = data['RATE'].corr(data['Average'])\n",
    "\n",
    "print(\"Correlation between column suicide rate and column states average GDP:\", correlation)"
   ]
  },
  {
   "cell_type": "code",
   "execution_count": null,
   "id": "9b81d243-8aa7-45bb-a69f-4e003806ab8f",
   "metadata": {},
   "outputs": [],
   "source": [
    "## comparison - Depression to GDP\n",
    "thisData = pd.merge(data,depression, on=\"STATENAME\", how=\"left\")\n",
    "\n",
    "plot = sb.regplot(data=thisData, x=\"depression_percent\", y=\"AVERAGE DEBT TO SALARY RATIO\")\n",
    "\n",
    "correlation = thisData['depression_percent'].corr(thisData['AVERAGE DEBT TO SALARY RATIO'])\n",
    "print(\"Correlation between column depression and column Average Debt to Salary:\", correlation)"
   ]
  },
  {
   "cell_type": "code",
   "execution_count": null,
   "id": "26bd5e23-f847-492b-9d4d-3a2b816f19ba",
   "metadata": {},
   "outputs": [],
   "source": [
    "## comparison - Depression to GDP\n",
    "##   == SIGNIFICANT ==\n",
    "plot = sb.regplot(data=thisData, x=\"depression_percent\", y=\"Average\")\n",
    "\n",
    "\n",
    "correlation = thisData['depression_percent'].corr(thisData['Average'])\n",
    "print(\"Correlation between column depression and column states average GDP:\", correlation)"
   ]
  },
  {
   "cell_type": "code",
   "execution_count": null,
   "id": "55726a00-58bd-4cfb-ae34-fe3178de95b4",
   "metadata": {},
   "outputs": [],
   "source": [
    "## comparison - Depression to GDP\n",
    "thisData = pd.merge(data,depression, on=\"STATENAME\", how=\"left\")\n",
    "\n",
    "plot = sb.regplot(data=thisData, x=\"depression_percent\", y=\"AVERAGE DEBT TO SALARY RATIO\")\n",
    "\n",
    "correlation = thisData['depression_percent'].corr(thisData['AVERAGE DEBT TO SALARY RATIO'])\n",
    "print(\"Correlation between column depression and column Average Debt to Salary:\", correlation)"
   ]
  },
  {
   "cell_type": "code",
   "execution_count": null,
   "id": "4a442ca4-7d19-4ad4-8c77-5aab6c4ae17a",
   "metadata": {},
   "outputs": [],
   "source": [
    "## comparison - Depression to GDP\n",
    "AllData = pd.merge(thisData,StateInfo, on=\"STATENAME\", how=\"left\")"
   ]
  },
  {
   "cell_type": "code",
   "execution_count": null,
   "id": "852461ff-58d7-465a-b2c2-afe5012f2f3e",
   "metadata": {},
   "outputs": [],
   "source": [
    "## comparison - Depression to median income\n",
    "## SLIGHT COORELATION\n",
    "plot = sb.regplot(data=AllData, x=\"depression_percent\", y=\"MedianIncome\")\n",
    "\n",
    "correlation = AllData['depression_percent'].corr(AllData['MedianIncome'])\n",
    "print(\"Correlation between column depression and column Median Income:\", correlation)"
   ]
  },
  {
   "cell_type": "code",
   "execution_count": null,
   "id": "9e14a4b2-0b49-4e81-acc3-0f8ab25eeebd",
   "metadata": {},
   "outputs": [],
   "source": [
    "## comparison - Depression to median income\n",
    "## SLIGHT COORELATION\n",
    "plot = sb.regplot(data=AllData, x=\"RATE\", y=\"MedianIncome\")\n",
    "correlation = AllData['RATE'].corr(AllData['MedianIncome'])\n",
    "print(\"Correlation between column Sucidie Rate and column Median Income:\", correlation)"
   ]
  },
  {
   "cell_type": "code",
   "execution_count": null,
   "id": "38fac0ef-1879-43f5-a7e4-aa238b3122ae",
   "metadata": {},
   "outputs": [],
   "source": [
    "## comparison - Depression to State spending\n",
    "## No coorelation\n",
    "plot = sb.regplot(data=AllData, x=\"depression_percent\", y=\"StateSpending\")\n",
    "\n",
    "correlation = AllData['depression_percent'].corr(AllData['StateSpending'])\n",
    "print(\"Correlation between column depression and column State Spending:\", correlation)"
   ]
  },
  {
   "cell_type": "code",
   "execution_count": null,
   "id": "9b9b7fcd-20de-46f3-8304-59b76cf63b0e",
   "metadata": {},
   "outputs": [],
   "source": [
    "## comparison - Sucidie to State spending\n",
    "## No coorelation\n",
    "plot = sb.regplot(data=AllData, x=\"RATE\", y=\"StateSpending\")\n",
    "\n",
    "correlation = AllData['RATE'].corr(AllData['StateSpending'])\n",
    "print(\"Correlation between column suicide rates and column State Spending:\", correlation)"
   ]
  },
  {
   "cell_type": "code",
   "execution_count": null,
   "id": "49c428bb-b5f0-4cdc-a6e8-6beb0ff1f02b",
   "metadata": {},
   "outputs": [],
   "source": [
    "## comparison - Depression to state collections\n",
    "## SLIGHT coorelation\n",
    "plot = sb.regplot(data=AllData, x=\"depression_percent\", y=\"StateCollections\")\n",
    "\n",
    "correlation = AllData['depression_percent'].corr(AllData['StateCollections'])\n",
    "print(\"Correlation between column depression and column State Collections:\", correlation)"
   ]
  },
  {
   "cell_type": "code",
   "execution_count": null,
   "id": "04460fd6-bae1-4773-a03d-47f7e7336cbc",
   "metadata": {},
   "outputs": [],
   "source": [
    "## comparison - Sucidie to state collections\n",
    "## SLIGHT coorelation\n",
    "plot = sb.regplot(data=AllData, x=\"RATE\", y=\"StateCollections\")\n",
    "\n",
    "correlation = AllData['RATE'].corr(AllData['StateCollections'])\n",
    "print(\"Correlation between column suicide rates and column State Collections:\", correlation)"
   ]
  },
  {
   "cell_type": "code",
   "execution_count": null,
   "id": "712c73a5-6b14-4fcf-9b67-87d27430898e",
   "metadata": {},
   "outputs": [],
   "source": [
    "## comparison - Depression to unemployment\n",
    "## SLIGHT coorelation\n",
    "plot = sb.regplot(data=AllData, x=\"depression_percent\", y=\"Unemployed\")\n",
    "\n",
    "correlation = AllData['depression_percent'].corr(AllData['Unemployed'])\n",
    "print(\"Correlation between column depression and column Unemployment:\", correlation)"
   ]
  },
  {
   "cell_type": "code",
   "execution_count": null,
   "id": "1e145ab3-1b26-4e31-9806-2f44d850deb6",
   "metadata": {},
   "outputs": [],
   "source": [
    "## comparison - Sucidie to state collections\n",
    "## SLIGHT coorelation\n",
    "plot = sb.regplot(data=AllData, x=\"RATE\", y=\"Unemployed\")\n",
    "\n",
    "correlation = AllData['RATE'].corr(AllData['Unemployed'])\n",
    "print(\"Correlation between column suicide rates and column Unemployment:\", correlation)"
   ]
  }
 ],
 "metadata": {
  "kernelspec": {
   "display_name": "Python 3 (ipykernel)",
   "language": "python",
   "name": "python3"
  },
  "language_info": {
   "codemirror_mode": {
    "name": "ipython",
    "version": 3
   },
   "file_extension": ".py",
   "mimetype": "text/x-python",
   "name": "python",
   "nbconvert_exporter": "python",
   "pygments_lexer": "ipython3",
   "version": "3.9.7"
  }
 },
 "nbformat": 4,
 "nbformat_minor": 5
}
