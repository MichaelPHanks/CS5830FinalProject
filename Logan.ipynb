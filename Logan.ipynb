{
 "cells": [
  {
   "cell_type": "code",
   "execution_count": null,
   "id": "311e21c9-a458-4035-9699-67d0c96f1fdf",
   "metadata": {},
   "outputs": [],
   "source": [
    "## FILE FOR LOGAN TO WORK IN\n",
    "\n",
    "import pandas as pd\n",
    "import geopandas as geo\n",
    "from sklearn.metrics import accuracy_score\n",
    "from sklearn.model_selection import train_test_split\n",
    "from sklearn.metrics import precision_recall_fscore_support\n",
    "from sklearn import datasets\n",
    "from sklearn.naive_bayes import GaussianNB\n",
    "import seaborn as sb\n",
    "import matplotlib.pyplot as plt"
   ]
  },
  {
   "cell_type": "code",
   "execution_count": null,
   "id": "c19f7cf6-f27a-4f0f-821e-067eecfc426e",
   "metadata": {},
   "outputs": [],
   "source": [
    "debt = pd.read_csv('debt.csv')\n",
    "depression = pd.read_csv('depression.csv')\n",
    "GDP = pd.read_csv('GDP.csv')\n",
    "GDP = GDP.dropna()\n",
    "states = pd.read_csv('StateInfo.csv')\n",
    "suicide = pd.read_csv('suicides.csv')\n",
    "GDP = GDP.head(52)\n",
    "GDP = GDP.drop(GDP.index[0])\n",
    "GDP = GDP.drop(GDP.index[8])\n",
    "GDP"
   ]
  },
  {
   "cell_type": "code",
   "execution_count": null,
   "id": "16f7c4b8-4b6c-4270-90ee-6dfffe3cc2d8",
   "metadata": {},
   "outputs": [],
   "source": [
    "# Load your data\n",
    "us_map = geo.read_file('cb_2018_us_state_500k/cb_2018_us_state_500k.shp')\n",
    "\n",
    "# Join your data with the map data\n",
    "merged_data = us_map.merge(GDP, how='left', left_on='NAME', right_on='GeoName')\n",
    "\n",
    "# Plot the map\n",
    "fig, ax = plt.subplots(figsize=(12, 8))\n",
    "merged_data.plot(column='2022:Q1', cmap='OrRd', linewidth=.08, ax=ax, edgecolor='0.8', legend=True)\n",
    "plt.show()"
   ]
  },
  {
   "cell_type": "code",
   "execution_count": null,
   "id": "c24c02af-bd03-431e-bd29-26a806bd6be0",
   "metadata": {},
   "outputs": [],
   "source": []
  }
 ],
 "metadata": {
  "kernelspec": {
   "display_name": "Python 3 (ipykernel)",
   "language": "python",
   "name": "python3"
  },
  "language_info": {
   "codemirror_mode": {
    "name": "ipython",
    "version": 3
   },
   "file_extension": ".py",
   "mimetype": "text/x-python",
   "name": "python",
   "nbconvert_exporter": "python",
   "pygments_lexer": "ipython3",
   "version": "3.9.7"
  }
 },
 "nbformat": 4,
 "nbformat_minor": 5
}
